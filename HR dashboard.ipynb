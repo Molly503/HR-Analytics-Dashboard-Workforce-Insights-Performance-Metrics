{
 "cells": [
  {
   "cell_type": "code",
   "execution_count": 2,
   "id": "539be357-3aaf-4d8b-a11f-911256f9c97c",
   "metadata": {},
   "outputs": [],
   "source": [
    "import pandas as pd\n",
    "import numpy as np\n",
    "import matplotlib.pyplot as plt\n",
    "import seaborn as sns\n",
    "from datetime import datetime\n",
    "import plotly.express as px\n",
    "import plotly.graph_objects as go\n",
    "from plotly.subplots import make_subplots\n"
   ]
  },
  {
   "cell_type": "code",
   "execution_count": 3,
   "id": "064202dc-36ba-4fe5-833d-ac38c77bc4f5",
   "metadata": {},
   "outputs": [],
   "source": [
    "# Set visual styles\n",
    "plt.style.use('ggplot')\n",
    "sns.set_palette(\"Set2\")"
   ]
  },
  {
   "cell_type": "code",
   "execution_count": 4,
   "id": "a7ae7dc9-defe-42d9-9734-120ce50ee18b",
   "metadata": {},
   "outputs": [],
   "source": [
    "# Function to calculate age from birthdate\n",
    "def calculate_age(birthdate, reference_date=None):\n",
    "    if reference_date is None:\n",
    "        reference_date = datetime.now()\n",
    "    \n",
    "    if pd.isnull(birthdate):\n",
    "        return np.nan\n",
    "    \n",
    "    # Convert to datetime if it's a string\n",
    "    if isinstance(birthdate, str):\n",
    "        try:\n",
    "            birth_date = pd.to_datetime(birthdate)\n",
    "        except:\n",
    "            return np.nan\n",
    "    else:\n",
    "        birth_date = birthdate\n",
    "        \n",
    "    # Calculate age\n",
    "    age = reference_date.year - birth_date.year - ((reference_date.month, reference_date.day) < (birth_date.month, birth_date.day))\n",
    "    return age"
   ]
  },
  {
   "cell_type": "code",
   "execution_count": 5,
   "id": "54555d18-b36a-4189-8f1e-e07b030d3854",
   "metadata": {},
   "outputs": [],
   "source": [
    "# Function to calculate tenure\n",
    "def calculate_tenure(hiredate, termdate=None, reference_date=None):\n",
    "    if reference_date is None:\n",
    "        reference_date = datetime.now()\n",
    "    \n",
    "    if pd.isnull(hiredate):\n",
    "        return np.nan\n",
    "    \n",
    "    # Convert to datetime if it's a string\n",
    "    if isinstance(hiredate, str):\n",
    "        try:\n",
    "            hire_date = pd.to_datetime(hiredate)\n",
    "        except:\n",
    "            return np.nan\n",
    "    else:\n",
    "        hire_date = hiredate\n",
    "    \n",
    "    # Determine end date (termination date or current date)\n",
    "    if termdate is not None and not pd.isnull(termdate) and termdate != \"\":\n",
    "        if isinstance(termdate, str):\n",
    "            try:\n",
    "                end_date = pd.to_datetime(termdate)\n",
    "            except:\n",
    "                end_date = reference_date\n",
    "        else:\n",
    "            end_date = termdate\n",
    "    else:\n",
    "        end_date = reference_date\n",
    "    \n",
    "    # Calculate tenure in years\n",
    "    tenure_years = end_date.year - hire_date.year - ((end_date.month, end_date.day) < (hire_date.month, hire_date.day))\n",
    "    return tenure_years"
   ]
  },
  {
   "cell_type": "code",
   "execution_count": 6,
   "id": "e9d14c4b-bf9a-41da-8fb4-ee51e7942ee0",
   "metadata": {},
   "outputs": [],
   "source": [
    "\n",
    "\n",
    "# Load the data\n",
    "def load_hr_data(file_path):\n",
    "    # Read CSV with semicolon delimiter\n",
    "    df = pd.read_csv(file_path, sep=';')\n",
    "    \n",
    "    # Check for and handle any data cleaning needs\n",
    "    \n",
    "    # Convert date columns to datetime - FIX: specify dayfirst=True to handle DD/MM/YYYY format\n",
    "    date_columns = ['Birthdate', 'Hiredate', 'Termdate']\n",
    "    for col in date_columns:\n",
    "        if col in df.columns:\n",
    "            # Explicitly set dayfirst=True to handle DD/MM/YYYY format\n",
    "            df[col] = pd.to_datetime(df[col], dayfirst=True, errors='coerce')\n",
    "    \n",
    "    # Add calculated columns\n",
    "    reference_date = pd.to_datetime('2025-04-21')  # Today's date\n",
    "    \n",
    "    # Calculate age\n",
    "    df['Age'] = df['Birthdate'].apply(lambda x: calculate_age(x, reference_date))\n",
    "    \n",
    "    # Calculate tenure\n",
    "    df['Tenure'] = df.apply(lambda row: calculate_tenure(row['Hiredate'], row['Termdate'], reference_date), axis=1)\n",
    "    \n",
    "    # Flag active vs terminated employees\n",
    "    df['Status'] = df['Termdate'].apply(lambda x: 'Terminated' if pd.notna(x) else 'Active')\n",
    "    \n",
    "    # Print data info for verification\n",
    "    print(f\"Loaded {len(df)} employee records\")\n",
    "    print(f\"Date range: {df['Hiredate'].min()} to {df['Hiredate'].max()}\")\n",
    "    print(f\"Age range: {df['Age'].min()} to {df['Age'].max()}\")\n",
    "    print(f\"Active employees: {len(df[df['Status'] == 'Active'])}\")\n",
    "    print(f\"Terminated employees: {len(df[df['Status'] == 'Terminated'])}\")\n",
    "    \n",
    "    # Check for any missing values in key columns\n",
    "    missing_values = df.isnull().sum()\n",
    "    if missing_values.sum() > 0:\n",
    "        print(\"\\nMissing values in columns:\")\n",
    "        print(missing_values[missing_values > 0])\n",
    "    \n",
    "    return df\n"
   ]
  },
  {
   "cell_type": "code",
   "execution_count": 7,
   "id": "8d3a3615-e3e9-468c-b463-69d2b7ad55f6",
   "metadata": {},
   "outputs": [
    {
     "name": "stdout",
     "output_type": "stream",
     "text": [
      "Loaded 8950 employee records\n",
      "Date range: 2015-01-01 00:00:00 to 2024-12-29 00:00:00\n",
      "Age range: 20 to 65\n",
      "Active employees: 7984\n",
      "Terminated employees: 966\n",
      "\n",
      "Missing values in columns:\n",
      "Termdate    7984\n",
      "dtype: int64\n",
      "\n",
      "Dataset Overview:\n",
      "Total Employees: 8950\n",
      "Active Employees: 7984\n",
      "Terminated Employees: 966\n",
      "Turnover Rate: 10.79%\n"
     ]
    }
   ],
   "source": [
    "# Load data\n",
    "df = load_hr_data('HumanResources.csv')\n",
    "\n",
    "# Basic dataset overview\n",
    "print(\"\\nDataset Overview:\")\n",
    "print(f\"Total Employees: {len(df)}\")\n",
    "print(f\"Active Employees: {len(df[df['Status'] == 'Active'])}\")\n",
    "print(f\"Terminated Employees: {len(df[df['Status'] == 'Terminated'])}\")\n",
    "print(f\"Turnover Rate: {len(df[df['Status'] == 'Terminated']) / len(df) * 100:.2f}%\")"
   ]
  },
  {
   "cell_type": "code",
   "execution_count": 8,
   "id": "cb27e27b-774d-41e4-ab44-47f9b4310ded",
   "metadata": {},
   "outputs": [
    {
     "name": "stdout",
     "output_type": "stream",
     "text": [
      "\n",
      "Sample data (first 5 rows):\n",
      "   Employee_ID First Name Last Name  Gender           State           City  \\\n",
      "0  00-95822412   Danielle   Johnson  Female        New York  New York City   \n",
      "1  00-42868828       John    Taylor    Male  North Carolina      Charlotte   \n",
      "2  00-83197857      Erica   Mcclain    Male        New York  New York City   \n",
      "3  00-13999315   Brittany   Johnson    Male        New York  New York City   \n",
      "4  00-90801586    Jeffery    Wagner  Female        New York  New York City   \n",
      "\n",
      "  Education Level  Birthdate   Hiredate   Termdate        Department  \\\n",
      "0     High School 1980-02-13 2016-04-16 2021-07-05  Customer Service   \n",
      "1        Bachelor 1987-09-22 2017-02-09 2019-06-14                IT   \n",
      "2        Bachelor 1994-05-19 2016-02-03 2021-03-06        Operations   \n",
      "3        Bachelor 1980-04-18 2016-02-06 2018-11-06        Operations   \n",
      "4        Bachelor 1985-04-07 2015-01-11        NaT        Operations   \n",
      "\n",
      "               Job Title  Salary Performance Rating  Age  Tenure      Status  \n",
      "0   Help Desk Technician   81552  Needs Improvement   45       5  Terminated  \n",
      "1   System Administrator  107520               Good   37       2  Terminated  \n",
      "2  Logistics Coordinator   61104               Good   30       5  Terminated  \n",
      "3   Inventory Specialist   73770               Good   45       2  Terminated  \n",
      "4     Operations Analyst   55581       Satisfactory   40      10      Active  \n"
     ]
    }
   ],
   "source": [
    "# Quick sample to verify data is loaded correctly\n",
    "print(\"\\nSample data (first 5 rows):\")\n",
    "print(df.head())"
   ]
  },
  {
   "cell_type": "markdown",
   "id": "7580233a-8a26-4544-ad3a-11e34912ae4e",
   "metadata": {},
   "source": [
    "# 1. Salary Structure and Budget Control Analysis"
   ]
  },
  {
   "cell_type": "code",
   "execution_count": 10,
   "id": "fd06a8ed-72b3-4ddc-bbae-94bccb08a6bb",
   "metadata": {},
   "outputs": [
    {
     "name": "stdout",
     "output_type": "stream",
     "text": [
      "\n",
      "--- Salary Structure Analysis ---\n",
      "  Education Level   Mean Salary  Median Salary  Std Deviation  Count\n",
      "0        Bachelor  69921.570532        66534.0   12293.098034   5416\n",
      "1     High School  62144.286971        60968.0    6564.515033   1819\n",
      "2          Master  82675.957154        82026.0   14172.368094   1237\n",
      "3             PhD  86033.196653        84159.0   16164.175611    478\n",
      "\n",
      "Performance Rating Distribution by Education Level (%):\n",
      "Performance Rating  Excellent       Good  Needs Improvement  Satisfactory\n",
      "Education Level                                                          \n",
      "Bachelor            12.296898  49.963072           7.847120     29.892910\n",
      "High School         12.864211  21.385377          33.974711     31.775701\n",
      "Master              35.408246  40.743735           4.607922     19.240097\n",
      "PhD                 47.698745  34.309623           4.811715     13.179916\n"
     ]
    }
   ],
   "source": [
    "\n",
    "print(\"\\n--- Salary Structure Analysis ---\")\n",
    "# Education level vs. salary\n",
    "edu_salary = df.groupby('Education Level')['Salary'].agg(['mean', 'median', 'std', 'count']).reset_index()\n",
    "edu_salary.columns = ['Education Level', 'Mean Salary', 'Median Salary', 'Std Deviation', 'Count']\n",
    "print(edu_salary)\n",
    "\n",
    "# Education level vs. performance rating\n",
    "edu_performance = pd.crosstab(df['Education Level'], df['Performance Rating'], normalize='index')\n",
    "print(\"\\nPerformance Rating Distribution by Education Level (%):\")\n",
    "print(edu_performance * 100)\n"
   ]
  },
  {
   "cell_type": "code",
   "execution_count": 11,
   "id": "b097faaa-6e5d-4614-9e77-4314b595a93f",
   "metadata": {},
   "outputs": [
    {
     "name": "stdout",
     "output_type": "stream",
     "text": [
      "\n",
      "Education ROI Analysis:\n",
      "  Education Level        Salary  Performance Score  ROI_Metric\n",
      "0        Bachelor  69921.570532           3.197509    0.457299\n",
      "1     High School  62144.286971           3.375602    0.543188\n",
      "2          Master  82675.957154           3.464968    0.419102\n",
      "3             PhD  86033.196653           3.581633    0.416308\n"
     ]
    }
   ],
   "source": [
    "# Calculate ROI for education levels (using performance as proxy)\n",
    "# Assuming 'Excellent' performance = 4, 'Good' = 3, 'Average' = 2, 'Poor' = 1\n",
    "performance_map = {'Excellent': 4, 'Good': 3, 'Average': 2, 'Poor': 1}\n",
    "if 'Performance Rating' in df.columns:\n",
    "    df['Performance Score'] = df['Performance Rating'].map(performance_map)\n",
    "    \n",
    "    edu_roi = df.groupby('Education Level').agg({\n",
    "        'Salary': 'mean',\n",
    "        'Performance Score': 'mean'\n",
    "    }).reset_index()\n",
    "    \n",
    "    # Calculate simple ROI metric (Performance Score / Salary in 10K units)\n",
    "    edu_roi['ROI_Metric'] = edu_roi['Performance Score'] / (edu_roi['Salary'] / 10000)\n",
    "    print(\"\\nEducation ROI Analysis:\")\n",
    "    print(edu_roi)\n"
   ]
  },
  {
   "cell_type": "markdown",
   "id": "40c88836-b93a-4298-8760-aa544be5001c",
   "metadata": {},
   "source": [
    "# 2. Department Manpower Cost Analysis"
   ]
  },
  {
   "cell_type": "code",
   "execution_count": 13,
   "id": "ffffd3b3-1ff2-4fb1-b624-0bf735a38938",
   "metadata": {},
   "outputs": [
    {
     "name": "stdout",
     "output_type": "stream",
     "text": [
      "\n",
      "--- Department Analysis ---\n",
      "         Department  Headcount  Total Salary    Avg Salary  Median Salary  \\\n",
      "5        Operations       2718     177757880  65400.250184        63375.0   \n",
      "6             Sales       1835     139836079  76204.947684        74520.0   \n",
      "0  Customer Service       1673     110146520  65837.728631        63314.0   \n",
      "3                IT       1382     113221190  81925.607815        83865.0   \n",
      "4         Marketing        718      48579179  67659.023677        64897.0   \n",
      "1           Finance        452      34555917  76451.143805        72963.5   \n",
      "2                HR        172      11032946  64145.034884        64034.5   \n",
      "\n",
      "   % of Workforce  % of Salary Budget  \n",
      "5       30.368715           27.987650  \n",
      "6       20.502793           22.016932  \n",
      "0       18.692737           17.342366  \n",
      "3       15.441341           17.826467  \n",
      "4        8.022346            7.648702  \n",
      "1        5.050279            5.440765  \n",
      "2        1.921788            1.737117  \n"
     ]
    }
   ],
   "source": [
    "\n",
    "print(\"\\n--- Department Analysis ---\")\n",
    "dept_analysis = df.groupby('Department').agg({\n",
    "    'Employee_ID': 'count',\n",
    "    'Salary': ['sum', 'mean', 'median']\n",
    "}).reset_index()\n",
    "dept_analysis.columns = ['Department', 'Headcount', 'Total Salary', 'Avg Salary', 'Median Salary']\n",
    "dept_analysis['% of Workforce'] = dept_analysis['Headcount'] / len(df) * 100\n",
    "dept_analysis['% of Salary Budget'] = dept_analysis['Total Salary'] / df['Salary'].sum() * 100\n",
    "print(dept_analysis.sort_values('Headcount', ascending=False))"
   ]
  },
  {
   "cell_type": "markdown",
   "id": "66a6c73c-8298-46ac-b9a5-507c95e462c0",
   "metadata": {},
   "source": [
    "# 3. Termination and Recruitment Efficiency Analysis"
   ]
  },
  {
   "cell_type": "code",
   "execution_count": 15,
   "id": "c4e3427c-1072-4463-a97e-2b5e8df936a1",
   "metadata": {},
   "outputs": [
    {
     "name": "stdout",
     "output_type": "stream",
     "text": [
      "\n",
      "--- Termination Analysis ---\n",
      "         Department  Termination Count  Total Count  Termination Rate\n",
      "1           Finance                 63          452         13.938053\n",
      "2                HR                 20          172         11.627907\n",
      "0  Customer Service                184         1673         10.998207\n",
      "6             Sales                201         1835         10.953678\n",
      "5        Operations                289         2718         10.632818\n",
      "3                IT                139         1382         10.057887\n",
      "4         Marketing                 70          718          9.749304\n",
      "\n",
      "Estimated Replacement Costs by Department:\n",
      "         Department  Termination Count  Est. Replacement Cost (Low)  \\\n",
      "0  Customer Service                184                 1.211414e+07   \n",
      "1           Finance                 63                 4.816422e+06   \n",
      "2                HR                 20                 1.282901e+06   \n",
      "3                IT                139                 1.138766e+07   \n",
      "4         Marketing                 70                 4.736132e+06   \n",
      "5        Operations                289                 1.890067e+07   \n",
      "6             Sales                201                 1.531719e+07   \n",
      "\n",
      "   Est. Replacement Cost (High)  \n",
      "0                  1.817121e+07  \n",
      "1                  7.224633e+06  \n",
      "2                  1.924351e+06  \n",
      "3                  1.708149e+07  \n",
      "4                  7.104197e+06  \n",
      "5                  2.835101e+07  \n",
      "6                  2.297579e+07  \n"
     ]
    }
   ],
   "source": [
    "\n",
    "print(\"\\n--- Termination Analysis ---\")\n",
    "# Termination by department\n",
    "term_by_dept = df[df['Status'] == 'Terminated'].groupby('Department')['Employee_ID'].count().reset_index()\n",
    "term_by_dept.columns = ['Department', 'Termination Count']\n",
    "\n",
    "# Get total employees by department\n",
    "total_by_dept = df.groupby('Department')['Employee_ID'].count().reset_index()\n",
    "total_by_dept.columns = ['Department', 'Total Count']\n",
    "\n",
    "# Calculate termination rate by department\n",
    "term_rate = pd.merge(term_by_dept, total_by_dept, on='Department')\n",
    "term_rate['Termination Rate'] = term_rate['Termination Count'] / term_rate['Total Count'] * 100\n",
    "print(term_rate.sort_values('Termination Rate', ascending=False))\n",
    "\n",
    "# Estimate replacement costs\n",
    "avg_salary_by_dept = df.groupby('Department')['Salary'].mean().reset_index()\n",
    "term_cost = pd.merge(term_by_dept, avg_salary_by_dept, on='Department')\n",
    "term_cost['Est. Replacement Cost (Low)'] = term_cost['Termination Count'] * term_cost['Salary']\n",
    "term_cost['Est. Replacement Cost (High)'] = term_cost['Termination Count'] * term_cost['Salary'] * 1.5\n",
    "print(\"\\nEstimated Replacement Costs by Department:\")\n",
    "print(term_cost[['Department', 'Termination Count', 'Est. Replacement Cost (Low)', 'Est. Replacement Cost (High)']])"
   ]
  },
  {
   "cell_type": "markdown",
   "id": "afaa0db1-1858-406f-b27e-29bff3340958",
   "metadata": {},
   "source": [
    "# 4. Education Investment ROI"
   ]
  },
  {
   "cell_type": "code",
   "execution_count": 17,
   "id": "d9d5acd7-97c2-4b04-bc26-c1816c7ad6cd",
   "metadata": {},
   "outputs": [
    {
     "name": "stdout",
     "output_type": "stream",
     "text": [
      "\n",
      "--- Education Investment ROI Analysis ---\n",
      "  Education Level  Performance Score        Salary  Performance per 10K Salary\n",
      "0        Bachelor           3.197509  69921.570532                    0.457299\n",
      "1     High School           3.375602  62144.286971                    0.543188\n",
      "2          Master           3.464968  82675.957154                    0.419102\n",
      "3             PhD           3.581633  86033.196653                    0.416308\n"
     ]
    }
   ],
   "source": [
    "\n",
    "print(\"\\n--- Education Investment ROI Analysis ---\")\n",
    "# Compare performance ratings across education levels\n",
    "if 'Performance Rating' in df.columns and 'Performance Score' in df.columns:\n",
    "    edu_perf = df.groupby('Education Level').agg({\n",
    "        'Performance Score': 'mean',\n",
    "        'Salary': 'mean'\n",
    "    }).reset_index()\n",
    "    \n",
    "    # Calculate performance per salary dollar (higher is better)\n",
    "    edu_perf['Performance per 10K Salary'] = edu_perf['Performance Score'] / (edu_perf['Salary'] / 10000)\n",
    "    print(edu_perf)"
   ]
  },
  {
   "cell_type": "markdown",
   "id": "78b0cc29-0499-46a9-9601-49a56dfb4629",
   "metadata": {},
   "source": [
    "# 5. Age vs Salary Optimization"
   ]
  },
  {
   "cell_type": "code",
   "execution_count": 19,
   "id": "4fecf871-cfe4-4063-8b50-305f1c22ba5d",
   "metadata": {},
   "outputs": [
    {
     "name": "stdout",
     "output_type": "stream",
     "text": [
      "\n",
      "--- Age and Salary Analysis ---\n"
     ]
    }
   ],
   "source": [
    "print(\"\\n--- Age and Salary Analysis ---\")\n",
    "# Age groups\n",
    "df['Age Group'] = pd.cut(df['Age'], bins=[20, 30, 40, 50, 60, 100], labels=['20-29', '30-39', '40-49', '50-59', '60+'])\n",
    "\n",
    "\n"
   ]
  },
  {
   "cell_type": "code",
   "execution_count": 20,
   "id": "78f13455-3620-4ecc-8123-25c92d2c8de9",
   "metadata": {},
   "outputs": [
    {
     "name": "stdout",
     "output_type": "stream",
     "text": [
      "Salary by Age Group and Job Title (where count >= 5):\n",
      "    Age Group             Job Title          mean           std  count\n",
      "0       20-29            Accountant  70768.405405   9906.953923     37\n",
      "26      30-39            Accountant  70938.549020  10054.383771     51\n",
      "54      40-49            Accountant  73728.897959  11299.287550     49\n",
      "81      50-59            Accountant  77256.772727  10682.356758     22\n",
      "108       60+            Accountant  82818.071429  12168.637472     14\n",
      "..        ...                   ...           ...           ...    ...\n",
      "25      20-29  System Administrator  84063.820896  10002.239401     67\n",
      "53      30-39  System Administrator  83613.329268  11894.191408     82\n",
      "80      40-49  System Administrator  86280.974026  10661.676009     77\n",
      "107     50-59  System Administrator  89329.090909  10832.153066     44\n",
      "133       60+  System Administrator  89585.111111   9477.059254      9\n",
      "\n",
      "[123 rows x 5 columns]\n"
     ]
    }
   ],
   "source": [
    "\n",
    "age_salary = df.groupby(['Age Group', 'Job Title'], observed=True)['Salary'].agg(['mean', 'std', 'count']).reset_index()\n",
    "age_salary = age_salary[age_salary['count'] >= 5]  # Only include groups with enough data\n",
    "print(\"Salary by Age Group and Job Title (where count >= 5):\")\n",
    "print(age_salary.sort_values(['Job Title', 'Age Group']))\n"
   ]
  },
  {
   "cell_type": "code",
   "execution_count": 21,
   "id": "074c1cc3-0fc3-4aeb-8cb2-0fee35bc7315",
   "metadata": {},
   "outputs": [],
   "source": [
    "\n",
    "top_jobs = df['Job Title'].value_counts().head(5).index.tolist()\n",
    "filtered_df = df[df['Job Title'].isin(top_jobs)]\n",
    "\n",
    "plt.figure(figsize=(12, 7))\n",
    "sns.boxplot(x='Age Group', y='Salary', hue='Job Title', data=filtered_df)\n",
    "plt.title('Salary Distribution by Age Group and Top 5 Job Titles')\n",
    "plt.xlabel('Age Group')\n",
    "plt.ylabel('Salary ($)')\n",
    "plt.legend(title='Job Title', bbox_to_anchor=(1.05, 1), loc='upper left')\n",
    "plt.tight_layout()\n",
    "plt.savefig('age_salary_analysis.png')\n",
    "plt.close()"
   ]
  },
  {
   "cell_type": "code",
   "execution_count": 22,
   "id": "80cc4969-a38a-4522-a659-2be60c855c78",
   "metadata": {},
   "outputs": [
    {
     "name": "stdout",
     "output_type": "stream",
     "text": [
      "\n",
      "average salary and standard deviation for each age group:\n",
      "  Age Group          mean           std  count\n",
      "0     20-29  69045.781344  13132.937764   1994\n",
      "1     30-39  69976.680400  13585.358103   2500\n",
      "2     40-49  71380.414963  13375.519695   2446\n",
      "3     50-59  72992.205962  14068.689435   1476\n",
      "4       60+  75549.930636  15953.661586    519\n"
     ]
    }
   ],
   "source": [
    "# Calculate the average salary and standard deviation for each age group\n",
    "age_general = df.groupby('Age Group', observed=True)['Salary'].agg(['mean', 'std', 'count']).reset_index()\n",
    "print(\"\\naverage salary and standard deviation for each age group:\")\n",
    "print(age_general)\n"
   ]
  },
  {
   "cell_type": "code",
   "execution_count": 23,
   "id": "caa1d7c5-c44e-4e8e-bae5-148cac87badd",
   "metadata": {},
   "outputs": [
    {
     "name": "stdout",
     "output_type": "stream",
     "text": [
      "\n",
      "Salary coefficient of variation by age group:\n",
      "  Age Group  variation coefficient\n",
      "0     20-29               0.190206\n",
      "1     30-39               0.194141\n",
      "2     40-49               0.187384\n",
      "3     50-59               0.192742\n",
      "4       60+               0.211167\n"
     ]
    }
   ],
   "source": [
    "# Calculate the salary coefficient of variation (variation coefficient)\n",
    "age_general['variation coefficient'] = age_general['std'] / age_general['mean']\n",
    "print(\"\\nSalary coefficient of variation by age group:\")\n",
    "print(age_general[['Age Group', 'variation coefficient']])"
   ]
  },
  {
   "cell_type": "code",
   "execution_count": null,
   "id": "e4431639-8406-4fa4-8510-0247274e5130",
   "metadata": {},
   "outputs": [],
   "source": []
  },
  {
   "cell_type": "code",
   "execution_count": 24,
   "id": "25fafba4-d464-4aa5-bea2-1f03bd1db980",
   "metadata": {},
   "outputs": [
    {
     "name": "stdout",
     "output_type": "stream",
     "text": [
      "\n",
      "Jobs with Highest Salary Dispersion (potential optimization targets):\n",
      "               Job Title    Mean Salary  Std Deviation  Count  \\\n",
      "0             Accountant   73457.312139   11095.923627    173   \n",
      "20        SEO Specialist   73271.651429   11060.478745    175   \n",
      "6      Financial Analyst   86409.354037   13014.114169    161   \n",
      "10  Help Desk Technician   72426.079918   10748.543878    488   \n",
      "22         Sales Manager  103795.500000   15283.656187     52   \n",
      "24      Sales Specialist   75045.182301   10945.570051    565   \n",
      "17    Operations Analyst   73674.849192   10507.502463    557   \n",
      "21      Sales Consultant   86075.500000   12005.832721    478   \n",
      "27  System Administrator   85466.807143   11087.945213    280   \n",
      "11            IT Manager  113906.821429   14056.571375     28   \n",
      "\n",
      "    Coefficient of Variation  \n",
      "0                   0.151053  \n",
      "20                  0.150952  \n",
      "6                   0.150610  \n",
      "10                  0.148407  \n",
      "22                  0.147248  \n",
      "24                  0.145853  \n",
      "17                  0.142620  \n",
      "21                  0.139480  \n",
      "27                  0.129734  \n",
      "11                  0.123404  \n"
     ]
    }
   ],
   "source": [
    "# Calculate salary dispersion (coefficient of variation) to identify roles with high variation\n",
    "salary_dispersion = df.groupby('Job Title').agg({\n",
    "    'Salary': ['mean', 'std', 'count']\n",
    "}).reset_index()\n",
    "salary_dispersion.columns = ['Job Title', 'Mean Salary', 'Std Deviation', 'Count']\n",
    "salary_dispersion = salary_dispersion[salary_dispersion['Count'] >= 10]  # Only include roles with enough data\n",
    "salary_dispersion['Coefficient of Variation'] = salary_dispersion['Std Deviation'] / salary_dispersion['Mean Salary']\n",
    "print(\"\\nJobs with Highest Salary Dispersion (potential optimization targets):\")\n",
    "print(salary_dispersion.sort_values('Coefficient of Variation', ascending=False).head(10))\n"
   ]
  },
  {
   "cell_type": "markdown",
   "id": "3642e565-bee9-469f-999c-beb752812a3d",
   "metadata": {},
   "source": [
    "# 6. HQ vs Branch Cost Comparison"
   ]
  },
  {
   "cell_type": "code",
   "execution_count": null,
   "id": "f745d7e9-69ad-4f3a-a904-516d36e57bbd",
   "metadata": {},
   "outputs": [],
   "source": []
  },
  {
   "cell_type": "code",
   "execution_count": 26,
   "id": "bdcb950b-6a1a-430a-b529-9d808d215434",
   "metadata": {},
   "outputs": [
    {
     "name": "stdout",
     "output_type": "stream",
     "text": [
      "\n",
      "--- HQ vs Branch Analysis ---\n"
     ]
    }
   ],
   "source": [
    "print(\"\\n--- HQ vs Branch Analysis ---\")\n",
    "# Define a function to identify HQ vs Branch from location\n",
    "# Assuming New York City is the HQ (based on sample data showing many employees there)\n",
    "def determine_location_type(city):\n",
    "    if pd.isna(city):\n",
    "        return 'Unknown'\n",
    "    elif city.lower() in ['headquarters', 'hq', 'main office', 'corporate']:\n",
    "        return 'HQ'\n",
    "    # Add New York City as HQ - this is the key addition\n",
    "    elif city == 'New York City':\n",
    "        return 'HQ'\n",
    "    else:\n",
    "        return 'Branch'"
   ]
  },
  {
   "cell_type": "code",
   "execution_count": null,
   "id": "0c569fdd-1b62-41ba-80ae-70813623b698",
   "metadata": {},
   "outputs": [],
   "source": []
  },
  {
   "cell_type": "code",
   "execution_count": null,
   "id": "36b1483b-8450-4c10-b0fc-239fcc7c2009",
   "metadata": {},
   "outputs": [],
   "source": []
  },
  {
   "cell_type": "code",
   "execution_count": 63,
   "id": "f590ba1e-c775-4ab3-963c-1fc8a70c4304",
   "metadata": {},
   "outputs": [
    {
     "name": "stdout",
     "output_type": "stream",
     "text": [
      "  Location Type  Headcount  Total Salary    Avg Salary  % of Workforce  \\\n",
      "0        Branch       5991     425087808  70954.399599       66.938547   \n",
      "1            HQ       2959     210041903  70984.083474       33.061453   \n",
      "\n",
      "   % of Salary Budget  Cost per Employee  \n",
      "0            66.92929       70954.399599  \n",
      "1            33.07071       70984.083474  \n"
     ]
    }
   ],
   "source": [
    "# Apply location type determination\n",
    "if 'City' in df.columns:\n",
    "    df['Location Type'] = df['City'].apply(determine_location_type)\n",
    "    \n",
    "    # Now perform the analysis\n",
    "    location_analysis = df.groupby('Location Type').agg({\n",
    "        'Employee_ID': 'count',\n",
    "        'Salary': ['sum', 'mean']\n",
    "    }).reset_index()\n",
    "    \n",
    "    location_analysis.columns = ['Location Type', 'Headcount', 'Total Salary', 'Avg Salary']\n",
    "    location_analysis['% of Workforce'] = location_analysis['Headcount'] / len(df) * 100\n",
    "    location_analysis['% of Salary Budget'] = location_analysis['Total Salary'] / df['Salary'].sum() * 100\n",
    "    location_analysis['Cost per Employee'] = location_analysis['Total Salary'] / location_analysis['Headcount']\n",
    "    \n",
    "    print(location_analysis)"
   ]
  },
  {
   "cell_type": "code",
   "execution_count": null,
   "id": "dea289bf-f100-4741-a43c-cad671267a1e",
   "metadata": {},
   "outputs": [],
   "source": []
  },
  {
   "cell_type": "code",
   "execution_count": 67,
   "id": "21297aba-fd23-4390-bd8a-876d1a3df992",
   "metadata": {},
   "outputs": [
    {
     "name": "stdout",
     "output_type": "stream",
     "text": [
      "\n",
      "HQ vs Branch Cost Comparison:\n",
      "HQ cost per employee: $70,984.08\n",
      "Branch cost per employee: $70,954.40\n",
      "HQ premium: $29.68 (0.0%)\n"
     ]
    }
   ],
   "source": [
    "# Calculate the cost difference between HQ and branches\n",
    "if 'HQ' in location_analysis['Location Type'].values and 'Branch' in location_analysis['Location Type'].values:\n",
    "    hq_cost = location_analysis[location_analysis['Location Type'] == 'HQ']['Cost per Employee'].values[0]\n",
    "    branch_cost = location_analysis[location_analysis['Location Type'] == 'Branch']['Cost per Employee'].values[0]\n",
    "    cost_diff = hq_cost - branch_cost\n",
    "    cost_diff_pct = (cost_diff / branch_cost) * 100\n",
    "    \n",
    "    print(f\"\\nHQ vs Branch Cost Comparison:\")\n",
    "    print(f\"HQ cost per employee: ${hq_cost:,.2f}\")\n",
    "    print(f\"Branch cost per employee: ${branch_cost:,.2f}\")\n",
    "    print(f\"HQ premium: ${cost_diff:,.2f} ({cost_diff_pct:.1f}%)\")"
   ]
  },
  {
   "cell_type": "code",
   "execution_count": 28,
   "id": "97489514-07fd-4562-9380-ec48550fb222",
   "metadata": {},
   "outputs": [],
   "source": []
  },
  {
   "cell_type": "markdown",
   "id": "50d972d1-12e1-4315-aa59-57f14dae5915",
   "metadata": {},
   "source": [
    "# 7. Performance vs. Salary Correlation"
   ]
  },
  {
   "cell_type": "code",
   "execution_count": 31,
   "id": "57d649c4-3fd4-4f6e-a240-cb728a550b82",
   "metadata": {},
   "outputs": [
    {
     "name": "stdout",
     "output_type": "stream",
     "text": [
      "\n",
      "--- Performance vs. Salary Analysis ---\n",
      "  Performance Rating   Mean Salary  Median Salary  Salary Count  \\\n",
      "0          Excellent  74403.783525        70204.0          1566   \n",
      "1               Good  71484.260165        67391.0          3763   \n",
      "2  Needs Improvement  67031.341941        63290.0          1123   \n",
      "3       Satisfactory  69792.601281        65631.0          2498   \n",
      "\n",
      "   Employee Count  % of Workforce  \n",
      "0            1566       17.497207  \n",
      "1            3763       42.044693  \n",
      "2            1123       12.547486  \n",
      "3            2498       27.910615  \n"
     ]
    }
   ],
   "source": [
    "\n",
    "print(\"\\n--- Performance vs. Salary Analysis ---\")\n",
    "if 'Performance Score' in df.columns:\n",
    "    performance_salary_corr = df.groupby('Performance Rating').agg({\n",
    "        'Salary': ['mean', 'median', 'count'],\n",
    "        'Employee_ID': 'count'\n",
    "    }).reset_index()\n",
    "    performance_salary_corr.columns = ['Performance Rating', 'Mean Salary', 'Median Salary', 'Salary Count', 'Employee Count']\n",
    "    performance_salary_corr['% of Workforce'] = performance_salary_corr['Employee Count'] / len(df) * 100\n",
    "    print(performance_salary_corr)"
   ]
  },
  {
   "cell_type": "code",
   "execution_count": null,
   "id": "ea59205b-321f-41b8-8222-cea40c60a610",
   "metadata": {},
   "outputs": [],
   "source": []
  }
 ],
 "metadata": {
  "kernelspec": {
   "display_name": "Python [conda env:base] *",
   "language": "python",
   "name": "conda-base-py"
  },
  "language_info": {
   "codemirror_mode": {
    "name": "ipython",
    "version": 3
   },
   "file_extension": ".py",
   "mimetype": "text/x-python",
   "name": "python",
   "nbconvert_exporter": "python",
   "pygments_lexer": "ipython3",
   "version": "3.12.7"
  }
 },
 "nbformat": 4,
 "nbformat_minor": 5
}
